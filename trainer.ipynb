{
 "cells": [
  {
   "cell_type": "markdown",
   "source": [
    "# Quokka"
   ],
   "metadata": {
    "collapsed": false
   }
  },
  {
   "cell_type": "code",
   "execution_count": 284,
   "outputs": [],
   "source": [
    "import pandas as pd\n",
    "import tensorflow as tf\n",
    "import numpy as np\n",
    "\n",
    "from keras.models import Sequential\n",
    "from keras.layers import Dense\n",
    "from sklearn.model_selection import train_test_split\n"
   ],
   "metadata": {
    "collapsed": false
   }
  },
  {
   "cell_type": "code",
   "execution_count": 285,
   "outputs": [],
   "source": [
    "df = pd.read_csv('datasets/forestfires.csv')"
   ],
   "metadata": {
    "collapsed": false
   }
  },
  {
   "cell_type": "code",
   "execution_count": 286,
   "outputs": [
    {
     "data": {
      "text/plain": "   X  Y month  day  FFMC   DMC     DC  ISI  temp  RH  wind  rain  area\n0  7  5   mar  fri  86.2  26.2   94.3  5.1   8.2  51   6.7   0.0   0.0\n1  7  4   oct  tue  90.6  35.4  669.1  6.7  18.0  33   0.9   0.0   0.0\n2  7  4   oct  sat  90.6  43.7  686.9  6.7  14.6  33   1.3   0.0   0.0\n3  8  6   mar  fri  91.7  33.3   77.5  9.0   8.3  97   4.0   0.2   0.0\n4  8  6   mar  sun  89.3  51.3  102.2  9.6  11.4  99   1.8   0.0   0.0",
      "text/html": "<div>\n<style scoped>\n    .dataframe tbody tr th:only-of-type {\n        vertical-align: middle;\n    }\n\n    .dataframe tbody tr th {\n        vertical-align: top;\n    }\n\n    .dataframe thead th {\n        text-align: right;\n    }\n</style>\n<table border=\"1\" class=\"dataframe\">\n  <thead>\n    <tr style=\"text-align: right;\">\n      <th></th>\n      <th>X</th>\n      <th>Y</th>\n      <th>month</th>\n      <th>day</th>\n      <th>FFMC</th>\n      <th>DMC</th>\n      <th>DC</th>\n      <th>ISI</th>\n      <th>temp</th>\n      <th>RH</th>\n      <th>wind</th>\n      <th>rain</th>\n      <th>area</th>\n    </tr>\n  </thead>\n  <tbody>\n    <tr>\n      <th>0</th>\n      <td>7</td>\n      <td>5</td>\n      <td>mar</td>\n      <td>fri</td>\n      <td>86.2</td>\n      <td>26.2</td>\n      <td>94.3</td>\n      <td>5.1</td>\n      <td>8.2</td>\n      <td>51</td>\n      <td>6.7</td>\n      <td>0.0</td>\n      <td>0.0</td>\n    </tr>\n    <tr>\n      <th>1</th>\n      <td>7</td>\n      <td>4</td>\n      <td>oct</td>\n      <td>tue</td>\n      <td>90.6</td>\n      <td>35.4</td>\n      <td>669.1</td>\n      <td>6.7</td>\n      <td>18.0</td>\n      <td>33</td>\n      <td>0.9</td>\n      <td>0.0</td>\n      <td>0.0</td>\n    </tr>\n    <tr>\n      <th>2</th>\n      <td>7</td>\n      <td>4</td>\n      <td>oct</td>\n      <td>sat</td>\n      <td>90.6</td>\n      <td>43.7</td>\n      <td>686.9</td>\n      <td>6.7</td>\n      <td>14.6</td>\n      <td>33</td>\n      <td>1.3</td>\n      <td>0.0</td>\n      <td>0.0</td>\n    </tr>\n    <tr>\n      <th>3</th>\n      <td>8</td>\n      <td>6</td>\n      <td>mar</td>\n      <td>fri</td>\n      <td>91.7</td>\n      <td>33.3</td>\n      <td>77.5</td>\n      <td>9.0</td>\n      <td>8.3</td>\n      <td>97</td>\n      <td>4.0</td>\n      <td>0.2</td>\n      <td>0.0</td>\n    </tr>\n    <tr>\n      <th>4</th>\n      <td>8</td>\n      <td>6</td>\n      <td>mar</td>\n      <td>sun</td>\n      <td>89.3</td>\n      <td>51.3</td>\n      <td>102.2</td>\n      <td>9.6</td>\n      <td>11.4</td>\n      <td>99</td>\n      <td>1.8</td>\n      <td>0.0</td>\n      <td>0.0</td>\n    </tr>\n  </tbody>\n</table>\n</div>"
     },
     "execution_count": 286,
     "metadata": {},
     "output_type": "execute_result"
    }
   ],
   "source": [
    "df.head()"
   ],
   "metadata": {
    "collapsed": false
   }
  },
  {
   "cell_type": "code",
   "execution_count": 287,
   "outputs": [
    {
     "data": {
      "text/plain": "X        517\nY        517\nmonth    517\nday      517\nFFMC     517\nDMC      517\nDC       517\nISI      517\ntemp     517\nRH       517\nwind     517\nrain     517\narea     517\ndtype: int64"
     },
     "execution_count": 287,
     "metadata": {},
     "output_type": "execute_result"
    }
   ],
   "source": [
    "df.count()"
   ],
   "metadata": {
    "collapsed": false
   }
  },
  {
   "cell_type": "code",
   "execution_count": 288,
   "outputs": [],
   "source": [
    "df.drop(['X', 'Y', 'day'], axis=1, inplace=True)"
   ],
   "metadata": {
    "collapsed": false
   }
  },
  {
   "cell_type": "code",
   "execution_count": 289,
   "outputs": [],
   "source": [
    "# Dictionary mapping month names to month numbers\n",
    "month_to_number = {\n",
    "    'jan': 1,\n",
    "    'feb': 2,\n",
    "    'mar': 3,\n",
    "    'apr': 4,\n",
    "    'may': 5,\n",
    "    'jun': 6,\n",
    "    'jul': 7,\n",
    "    'aug': 8,\n",
    "    'sep': 9,\n",
    "    'oct': 10,\n",
    "    'nov': 11,\n",
    "    'dec': 12\n",
    "}\n",
    "\n",
    "# Convert month names to month numbers using map() function\n",
    "df['month'] = df['month'].map(month_to_number)\n"
   ],
   "metadata": {
    "collapsed": false
   }
  },
  {
   "cell_type": "code",
   "execution_count": 290,
   "outputs": [],
   "source": [
    "X = df[['month', 'temp', 'RH', 'wind', 'rain']]\n",
    "Y = (df['area'] > 0).astype(float)"
   ],
   "metadata": {
    "collapsed": false
   }
  },
  {
   "cell_type": "code",
   "execution_count": 290,
   "outputs": [],
   "source": [],
   "metadata": {
    "collapsed": false
   }
  },
  {
   "cell_type": "code",
   "execution_count": 291,
   "outputs": [
    {
     "data": {
      "text/plain": "(517, 5)"
     },
     "execution_count": 291,
     "metadata": {},
     "output_type": "execute_result"
    }
   ],
   "source": [
    "X.shape"
   ],
   "metadata": {
    "collapsed": false
   }
  },
  {
   "cell_type": "code",
   "execution_count": 292,
   "outputs": [
    {
     "data": {
      "text/plain": "month      int64\ntemp     float64\nRH         int64\nwind     float64\nrain     float64\ndtype: object"
     },
     "execution_count": 292,
     "metadata": {},
     "output_type": "execute_result"
    }
   ],
   "source": [
    "X.dtypes"
   ],
   "metadata": {
    "collapsed": false
   }
  },
  {
   "cell_type": "code",
   "execution_count": 293,
   "outputs": [],
   "source": [
    "X_train, X_test, y_train, y_test = train_test_split(X, Y, test_size=0.1)\n"
   ],
   "metadata": {
    "collapsed": false
   }
  },
  {
   "cell_type": "code",
   "execution_count": 294,
   "outputs": [
    {
     "data": {
      "text/plain": "     month  temp  RH  wind  rain\n296      6  14.3  46   1.8   0.0\n439      9  19.1  46   2.2   0.0\n170      9  21.9  35   1.8   0.0\n339      9  20.4  41   1.8   0.0\n141      8  23.3  31   4.5   0.0\n363      9  15.9  53   2.2   0.0\n210     10  18.4  25   3.1   0.0\n44       9  12.9  74   4.9   0.0\n38      10  17.8  27   4.0   0.0\n418      8  24.9  42   5.4   0.0\n142      8  21.2  51   8.9   0.0\n17      10  16.7  47   4.9   0.0\n377      8  21.9  42   2.2   0.0\n259      8  23.7  40   1.8   0.0\n253      8  21.4  38   2.7   0.0\n513      8  21.9  71   5.8   0.0\n124      9  19.8  50   5.4   0.0\n32       9  20.6  37   1.8   0.0\n276     12   4.6  21   8.5   0.0\n180      9  23.9  32   6.7   0.0\n199      9  22.6  38   3.6   0.0\n491      8  32.4  21   4.5   0.0\n145      8  27.4  22   4.0   0.0\n155      8  16.4  47   1.3   0.0\n325      9  24.2  27   3.1   0.0\n430      9  19.4  45   3.6   0.0\n502      8  20.7  69   4.9   0.4\n326      9  24.1  27   3.1   0.0\n50       9  20.8  17   1.3   0.0\n450      8  23.4  49   5.4   0.0\n471      5  18.0  40   4.0   0.0\n329      9  23.5  27   4.0   0.0\n257      8  21.4  44   2.7   0.0\n230      9  26.4  21   4.5   0.0\n165      3   5.3  70   4.5   0.0\n37      10  11.3  60   5.4   0.0\n64       8  23.1  31   3.1   0.0\n143      7  16.6  53   5.4   0.0\n359      9  21.1  39   2.2   0.0\n475      6  22.7  40   9.4   0.0\n301      6  19.1  39   5.4   0.0\n406      9  17.0  67   4.9   0.0\n209      9  23.2  26   4.9   0.0\n516     11  11.8  31   4.5   0.0\n456      8  16.6  59   2.7   0.0\n433      8  20.9  66   4.9   0.0\n385      8  20.9  50   2.2   0.0\n73       8  17.3  43   4.5   0.0\n181     10  19.1  32   4.0   0.0\n219      3  15.2  27   3.1   0.0\n200      9  21.6  33   2.2   0.0\n232      9  18.7  43   2.7   0.0",
      "text/html": "<div>\n<style scoped>\n    .dataframe tbody tr th:only-of-type {\n        vertical-align: middle;\n    }\n\n    .dataframe tbody tr th {\n        vertical-align: top;\n    }\n\n    .dataframe thead th {\n        text-align: right;\n    }\n</style>\n<table border=\"1\" class=\"dataframe\">\n  <thead>\n    <tr style=\"text-align: right;\">\n      <th></th>\n      <th>month</th>\n      <th>temp</th>\n      <th>RH</th>\n      <th>wind</th>\n      <th>rain</th>\n    </tr>\n  </thead>\n  <tbody>\n    <tr>\n      <th>296</th>\n      <td>6</td>\n      <td>14.3</td>\n      <td>46</td>\n      <td>1.8</td>\n      <td>0.0</td>\n    </tr>\n    <tr>\n      <th>439</th>\n      <td>9</td>\n      <td>19.1</td>\n      <td>46</td>\n      <td>2.2</td>\n      <td>0.0</td>\n    </tr>\n    <tr>\n      <th>170</th>\n      <td>9</td>\n      <td>21.9</td>\n      <td>35</td>\n      <td>1.8</td>\n      <td>0.0</td>\n    </tr>\n    <tr>\n      <th>339</th>\n      <td>9</td>\n      <td>20.4</td>\n      <td>41</td>\n      <td>1.8</td>\n      <td>0.0</td>\n    </tr>\n    <tr>\n      <th>141</th>\n      <td>8</td>\n      <td>23.3</td>\n      <td>31</td>\n      <td>4.5</td>\n      <td>0.0</td>\n    </tr>\n    <tr>\n      <th>363</th>\n      <td>9</td>\n      <td>15.9</td>\n      <td>53</td>\n      <td>2.2</td>\n      <td>0.0</td>\n    </tr>\n    <tr>\n      <th>210</th>\n      <td>10</td>\n      <td>18.4</td>\n      <td>25</td>\n      <td>3.1</td>\n      <td>0.0</td>\n    </tr>\n    <tr>\n      <th>44</th>\n      <td>9</td>\n      <td>12.9</td>\n      <td>74</td>\n      <td>4.9</td>\n      <td>0.0</td>\n    </tr>\n    <tr>\n      <th>38</th>\n      <td>10</td>\n      <td>17.8</td>\n      <td>27</td>\n      <td>4.0</td>\n      <td>0.0</td>\n    </tr>\n    <tr>\n      <th>418</th>\n      <td>8</td>\n      <td>24.9</td>\n      <td>42</td>\n      <td>5.4</td>\n      <td>0.0</td>\n    </tr>\n    <tr>\n      <th>142</th>\n      <td>8</td>\n      <td>21.2</td>\n      <td>51</td>\n      <td>8.9</td>\n      <td>0.0</td>\n    </tr>\n    <tr>\n      <th>17</th>\n      <td>10</td>\n      <td>16.7</td>\n      <td>47</td>\n      <td>4.9</td>\n      <td>0.0</td>\n    </tr>\n    <tr>\n      <th>377</th>\n      <td>8</td>\n      <td>21.9</td>\n      <td>42</td>\n      <td>2.2</td>\n      <td>0.0</td>\n    </tr>\n    <tr>\n      <th>259</th>\n      <td>8</td>\n      <td>23.7</td>\n      <td>40</td>\n      <td>1.8</td>\n      <td>0.0</td>\n    </tr>\n    <tr>\n      <th>253</th>\n      <td>8</td>\n      <td>21.4</td>\n      <td>38</td>\n      <td>2.7</td>\n      <td>0.0</td>\n    </tr>\n    <tr>\n      <th>513</th>\n      <td>8</td>\n      <td>21.9</td>\n      <td>71</td>\n      <td>5.8</td>\n      <td>0.0</td>\n    </tr>\n    <tr>\n      <th>124</th>\n      <td>9</td>\n      <td>19.8</td>\n      <td>50</td>\n      <td>5.4</td>\n      <td>0.0</td>\n    </tr>\n    <tr>\n      <th>32</th>\n      <td>9</td>\n      <td>20.6</td>\n      <td>37</td>\n      <td>1.8</td>\n      <td>0.0</td>\n    </tr>\n    <tr>\n      <th>276</th>\n      <td>12</td>\n      <td>4.6</td>\n      <td>21</td>\n      <td>8.5</td>\n      <td>0.0</td>\n    </tr>\n    <tr>\n      <th>180</th>\n      <td>9</td>\n      <td>23.9</td>\n      <td>32</td>\n      <td>6.7</td>\n      <td>0.0</td>\n    </tr>\n    <tr>\n      <th>199</th>\n      <td>9</td>\n      <td>22.6</td>\n      <td>38</td>\n      <td>3.6</td>\n      <td>0.0</td>\n    </tr>\n    <tr>\n      <th>491</th>\n      <td>8</td>\n      <td>32.4</td>\n      <td>21</td>\n      <td>4.5</td>\n      <td>0.0</td>\n    </tr>\n    <tr>\n      <th>145</th>\n      <td>8</td>\n      <td>27.4</td>\n      <td>22</td>\n      <td>4.0</td>\n      <td>0.0</td>\n    </tr>\n    <tr>\n      <th>155</th>\n      <td>8</td>\n      <td>16.4</td>\n      <td>47</td>\n      <td>1.3</td>\n      <td>0.0</td>\n    </tr>\n    <tr>\n      <th>325</th>\n      <td>9</td>\n      <td>24.2</td>\n      <td>27</td>\n      <td>3.1</td>\n      <td>0.0</td>\n    </tr>\n    <tr>\n      <th>430</th>\n      <td>9</td>\n      <td>19.4</td>\n      <td>45</td>\n      <td>3.6</td>\n      <td>0.0</td>\n    </tr>\n    <tr>\n      <th>502</th>\n      <td>8</td>\n      <td>20.7</td>\n      <td>69</td>\n      <td>4.9</td>\n      <td>0.4</td>\n    </tr>\n    <tr>\n      <th>326</th>\n      <td>9</td>\n      <td>24.1</td>\n      <td>27</td>\n      <td>3.1</td>\n      <td>0.0</td>\n    </tr>\n    <tr>\n      <th>50</th>\n      <td>9</td>\n      <td>20.8</td>\n      <td>17</td>\n      <td>1.3</td>\n      <td>0.0</td>\n    </tr>\n    <tr>\n      <th>450</th>\n      <td>8</td>\n      <td>23.4</td>\n      <td>49</td>\n      <td>5.4</td>\n      <td>0.0</td>\n    </tr>\n    <tr>\n      <th>471</th>\n      <td>5</td>\n      <td>18.0</td>\n      <td>40</td>\n      <td>4.0</td>\n      <td>0.0</td>\n    </tr>\n    <tr>\n      <th>329</th>\n      <td>9</td>\n      <td>23.5</td>\n      <td>27</td>\n      <td>4.0</td>\n      <td>0.0</td>\n    </tr>\n    <tr>\n      <th>257</th>\n      <td>8</td>\n      <td>21.4</td>\n      <td>44</td>\n      <td>2.7</td>\n      <td>0.0</td>\n    </tr>\n    <tr>\n      <th>230</th>\n      <td>9</td>\n      <td>26.4</td>\n      <td>21</td>\n      <td>4.5</td>\n      <td>0.0</td>\n    </tr>\n    <tr>\n      <th>165</th>\n      <td>3</td>\n      <td>5.3</td>\n      <td>70</td>\n      <td>4.5</td>\n      <td>0.0</td>\n    </tr>\n    <tr>\n      <th>37</th>\n      <td>10</td>\n      <td>11.3</td>\n      <td>60</td>\n      <td>5.4</td>\n      <td>0.0</td>\n    </tr>\n    <tr>\n      <th>64</th>\n      <td>8</td>\n      <td>23.1</td>\n      <td>31</td>\n      <td>3.1</td>\n      <td>0.0</td>\n    </tr>\n    <tr>\n      <th>143</th>\n      <td>7</td>\n      <td>16.6</td>\n      <td>53</td>\n      <td>5.4</td>\n      <td>0.0</td>\n    </tr>\n    <tr>\n      <th>359</th>\n      <td>9</td>\n      <td>21.1</td>\n      <td>39</td>\n      <td>2.2</td>\n      <td>0.0</td>\n    </tr>\n    <tr>\n      <th>475</th>\n      <td>6</td>\n      <td>22.7</td>\n      <td>40</td>\n      <td>9.4</td>\n      <td>0.0</td>\n    </tr>\n    <tr>\n      <th>301</th>\n      <td>6</td>\n      <td>19.1</td>\n      <td>39</td>\n      <td>5.4</td>\n      <td>0.0</td>\n    </tr>\n    <tr>\n      <th>406</th>\n      <td>9</td>\n      <td>17.0</td>\n      <td>67</td>\n      <td>4.9</td>\n      <td>0.0</td>\n    </tr>\n    <tr>\n      <th>209</th>\n      <td>9</td>\n      <td>23.2</td>\n      <td>26</td>\n      <td>4.9</td>\n      <td>0.0</td>\n    </tr>\n    <tr>\n      <th>516</th>\n      <td>11</td>\n      <td>11.8</td>\n      <td>31</td>\n      <td>4.5</td>\n      <td>0.0</td>\n    </tr>\n    <tr>\n      <th>456</th>\n      <td>8</td>\n      <td>16.6</td>\n      <td>59</td>\n      <td>2.7</td>\n      <td>0.0</td>\n    </tr>\n    <tr>\n      <th>433</th>\n      <td>8</td>\n      <td>20.9</td>\n      <td>66</td>\n      <td>4.9</td>\n      <td>0.0</td>\n    </tr>\n    <tr>\n      <th>385</th>\n      <td>8</td>\n      <td>20.9</td>\n      <td>50</td>\n      <td>2.2</td>\n      <td>0.0</td>\n    </tr>\n    <tr>\n      <th>73</th>\n      <td>8</td>\n      <td>17.3</td>\n      <td>43</td>\n      <td>4.5</td>\n      <td>0.0</td>\n    </tr>\n    <tr>\n      <th>181</th>\n      <td>10</td>\n      <td>19.1</td>\n      <td>32</td>\n      <td>4.0</td>\n      <td>0.0</td>\n    </tr>\n    <tr>\n      <th>219</th>\n      <td>3</td>\n      <td>15.2</td>\n      <td>27</td>\n      <td>3.1</td>\n      <td>0.0</td>\n    </tr>\n    <tr>\n      <th>200</th>\n      <td>9</td>\n      <td>21.6</td>\n      <td>33</td>\n      <td>2.2</td>\n      <td>0.0</td>\n    </tr>\n    <tr>\n      <th>232</th>\n      <td>9</td>\n      <td>18.7</td>\n      <td>43</td>\n      <td>2.7</td>\n      <td>0.0</td>\n    </tr>\n  </tbody>\n</table>\n</div>"
     },
     "execution_count": 294,
     "metadata": {},
     "output_type": "execute_result"
    }
   ],
   "source": [
    "X_test\n"
   ],
   "metadata": {
    "collapsed": false
   }
  },
  {
   "cell_type": "code",
   "execution_count": 295,
   "outputs": [],
   "source": [
    "model = Sequential(\n",
    "    [\n",
    "        Dense(64, activation='relu', input_shape=(5,)),\n",
    "        Dense(32, activation='relu'),\n",
    "        Dense(1, activation='sigmoid')\n",
    "    ]\n",
    ")\n"
   ],
   "metadata": {
    "collapsed": false
   }
  },
  {
   "cell_type": "code",
   "execution_count": 296,
   "outputs": [],
   "source": [
    "model.compile(optimizer='adam', loss='binary_crossentropy', metrics=['accuracy'])\n"
   ],
   "metadata": {
    "collapsed": false
   }
  },
  {
   "cell_type": "code",
   "execution_count": 297,
   "outputs": [
    {
     "name": "stdout",
     "output_type": "stream",
     "text": [
      "Model: \"sequential_22\"\n",
      "_________________________________________________________________\n",
      " Layer (type)                Output Shape              Param #   \n",
      "=================================================================\n",
      " dense_66 (Dense)            (None, 64)                384       \n",
      "                                                                 \n",
      " dense_67 (Dense)            (None, 32)                2080      \n",
      "                                                                 \n",
      " dense_68 (Dense)            (None, 1)                 33        \n",
      "                                                                 \n",
      "=================================================================\n",
      "Total params: 2,497\n",
      "Trainable params: 2,497\n",
      "Non-trainable params: 0\n",
      "_________________________________________________________________\n"
     ]
    }
   ],
   "source": [
    "model.summary()"
   ],
   "metadata": {
    "collapsed": false
   }
  },
  {
   "cell_type": "code",
   "execution_count": 298,
   "outputs": [
    {
     "name": "stdout",
     "output_type": "stream",
     "text": [
      "Epoch 1/100\n",
      "15/15 [==============================] - 9s 314ms/step - loss: 0.9177 - accuracy: 0.4710 - val_loss: 0.8035 - val_accuracy: 0.3462\n",
      "Epoch 2/100\n",
      "15/15 [==============================] - 3s 219ms/step - loss: 0.7260 - accuracy: 0.5161 - val_loss: 0.7533 - val_accuracy: 0.5192\n",
      "Epoch 3/100\n",
      "15/15 [==============================] - 1s 88ms/step - loss: 0.7534 - accuracy: 0.4989 - val_loss: 0.9555 - val_accuracy: 0.2885\n",
      "Epoch 4/100\n",
      "15/15 [==============================] - 1s 85ms/step - loss: 0.7678 - accuracy: 0.5032 - val_loss: 0.8825 - val_accuracy: 0.2885\n",
      "Epoch 5/100\n",
      "15/15 [==============================] - 1s 89ms/step - loss: 0.7045 - accuracy: 0.5355 - val_loss: 0.7484 - val_accuracy: 0.3654\n",
      "Epoch 6/100\n",
      "15/15 [==============================] - 1s 88ms/step - loss: 0.6993 - accuracy: 0.5355 - val_loss: 0.6654 - val_accuracy: 0.6538\n",
      "Epoch 7/100\n",
      "15/15 [==============================] - 1s 92ms/step - loss: 0.7199 - accuracy: 0.5011 - val_loss: 0.6472 - val_accuracy: 0.6923\n",
      "Epoch 8/100\n",
      "15/15 [==============================] - 1s 90ms/step - loss: 0.7112 - accuracy: 0.5161 - val_loss: 0.7049 - val_accuracy: 0.5192\n",
      "Epoch 9/100\n",
      "15/15 [==============================] - 1s 92ms/step - loss: 0.6997 - accuracy: 0.5269 - val_loss: 0.7132 - val_accuracy: 0.4231\n",
      "Epoch 10/100\n",
      "15/15 [==============================] - 1s 88ms/step - loss: 0.7020 - accuracy: 0.5333 - val_loss: 0.6979 - val_accuracy: 0.5000\n",
      "Epoch 11/100\n",
      "15/15 [==============================] - 1s 90ms/step - loss: 0.6907 - accuracy: 0.5634 - val_loss: 0.8154 - val_accuracy: 0.2500\n",
      "Epoch 12/100\n",
      "15/15 [==============================] - 1s 89ms/step - loss: 0.6969 - accuracy: 0.5312 - val_loss: 0.7249 - val_accuracy: 0.4423\n",
      "Epoch 13/100\n",
      "15/15 [==============================] - 1s 90ms/step - loss: 0.6911 - accuracy: 0.5505 - val_loss: 0.8592 - val_accuracy: 0.2692\n",
      "Epoch 14/100\n",
      "15/15 [==============================] - 1s 89ms/step - loss: 0.7251 - accuracy: 0.5699 - val_loss: 0.9800 - val_accuracy: 0.3269\n",
      "Epoch 15/100\n",
      "15/15 [==============================] - 1s 85ms/step - loss: 0.7022 - accuracy: 0.5505 - val_loss: 0.7207 - val_accuracy: 0.4423\n",
      "Epoch 16/100\n",
      "15/15 [==============================] - 1s 90ms/step - loss: 0.6902 - accuracy: 0.5398 - val_loss: 0.7214 - val_accuracy: 0.4231\n",
      "Epoch 17/100\n",
      "15/15 [==============================] - 1s 86ms/step - loss: 0.6974 - accuracy: 0.5312 - val_loss: 0.7291 - val_accuracy: 0.4038\n",
      "Epoch 18/100\n",
      "15/15 [==============================] - 1s 87ms/step - loss: 0.6885 - accuracy: 0.5613 - val_loss: 0.9005 - val_accuracy: 0.3269\n",
      "Epoch 19/100\n",
      "15/15 [==============================] - 1s 90ms/step - loss: 0.7153 - accuracy: 0.5419 - val_loss: 0.9528 - val_accuracy: 0.3269\n",
      "Epoch 20/100\n",
      "15/15 [==============================] - 1s 90ms/step - loss: 0.7411 - accuracy: 0.5269 - val_loss: 0.9528 - val_accuracy: 0.3269\n",
      "Epoch 21/100\n",
      "15/15 [==============================] - 1s 88ms/step - loss: 0.7104 - accuracy: 0.5226 - val_loss: 0.8906 - val_accuracy: 0.3077\n",
      "Epoch 22/100\n",
      "15/15 [==============================] - 1s 86ms/step - loss: 0.7186 - accuracy: 0.5290 - val_loss: 0.8260 - val_accuracy: 0.3077\n",
      "Epoch 23/100\n",
      "15/15 [==============================] - 1s 91ms/step - loss: 0.6788 - accuracy: 0.5226 - val_loss: 0.7165 - val_accuracy: 0.4231\n",
      "Epoch 24/100\n",
      "15/15 [==============================] - 1s 89ms/step - loss: 0.6876 - accuracy: 0.5699 - val_loss: 0.6910 - val_accuracy: 0.5385\n",
      "Epoch 25/100\n",
      "15/15 [==============================] - 1s 88ms/step - loss: 0.6742 - accuracy: 0.5720 - val_loss: 0.8199 - val_accuracy: 0.3077\n",
      "Epoch 26/100\n",
      "15/15 [==============================] - 1s 84ms/step - loss: 0.6770 - accuracy: 0.5548 - val_loss: 0.6802 - val_accuracy: 0.6346\n",
      "Epoch 27/100\n",
      "15/15 [==============================] - 1s 88ms/step - loss: 0.6860 - accuracy: 0.5505 - val_loss: 0.6659 - val_accuracy: 0.6923\n",
      "Epoch 28/100\n",
      "15/15 [==============================] - 1s 88ms/step - loss: 0.6960 - accuracy: 0.5097 - val_loss: 0.6720 - val_accuracy: 0.6731\n",
      "Epoch 29/100\n",
      "15/15 [==============================] - 1s 86ms/step - loss: 0.7123 - accuracy: 0.5527 - val_loss: 0.6637 - val_accuracy: 0.6923\n",
      "Epoch 30/100\n",
      "15/15 [==============================] - 1s 86ms/step - loss: 0.6918 - accuracy: 0.5849 - val_loss: 0.8628 - val_accuracy: 0.3077\n",
      "Epoch 31/100\n",
      "15/15 [==============================] - 1s 90ms/step - loss: 0.6886 - accuracy: 0.5505 - val_loss: 0.7283 - val_accuracy: 0.3077\n",
      "Epoch 32/100\n",
      "15/15 [==============================] - 1s 93ms/step - loss: 0.6737 - accuracy: 0.5742 - val_loss: 0.6762 - val_accuracy: 0.6923\n",
      "Epoch 33/100\n",
      "15/15 [==============================] - 1s 92ms/step - loss: 0.6712 - accuracy: 0.5527 - val_loss: 0.6915 - val_accuracy: 0.5385\n",
      "Epoch 34/100\n",
      "15/15 [==============================] - 1s 87ms/step - loss: 0.6829 - accuracy: 0.5548 - val_loss: 0.6856 - val_accuracy: 0.6346\n",
      "Epoch 35/100\n",
      "15/15 [==============================] - 1s 107ms/step - loss: 0.6709 - accuracy: 0.5441 - val_loss: 0.6807 - val_accuracy: 0.6731\n",
      "Epoch 36/100\n",
      "15/15 [==============================] - 1s 89ms/step - loss: 0.6818 - accuracy: 0.5355 - val_loss: 0.7612 - val_accuracy: 0.2692\n",
      "Epoch 37/100\n",
      "15/15 [==============================] - 1s 90ms/step - loss: 0.6658 - accuracy: 0.5677 - val_loss: 0.7630 - val_accuracy: 0.2500\n",
      "Epoch 38/100\n",
      "15/15 [==============================] - 1s 93ms/step - loss: 0.6883 - accuracy: 0.5462 - val_loss: 0.8046 - val_accuracy: 0.2885\n",
      "Epoch 39/100\n",
      "15/15 [==============================] - 1s 97ms/step - loss: 0.6687 - accuracy: 0.5548 - val_loss: 0.7517 - val_accuracy: 0.3269\n",
      "Epoch 40/100\n",
      "15/15 [==============================] - 1s 94ms/step - loss: 0.6710 - accuracy: 0.5785 - val_loss: 0.7266 - val_accuracy: 0.3269\n",
      "Epoch 41/100\n",
      "15/15 [==============================] - 1s 91ms/step - loss: 0.6739 - accuracy: 0.5591 - val_loss: 0.7202 - val_accuracy: 0.3846\n",
      "Epoch 42/100\n",
      "15/15 [==============================] - 1s 90ms/step - loss: 0.6796 - accuracy: 0.5699 - val_loss: 0.7861 - val_accuracy: 0.2692\n",
      "Epoch 43/100\n",
      "15/15 [==============================] - 1s 93ms/step - loss: 0.6961 - accuracy: 0.5742 - val_loss: 0.7207 - val_accuracy: 0.4423\n",
      "Epoch 44/100\n",
      "15/15 [==============================] - 1s 93ms/step - loss: 0.7040 - accuracy: 0.5204 - val_loss: 0.7187 - val_accuracy: 0.3654\n",
      "Epoch 45/100\n",
      "15/15 [==============================] - 1s 91ms/step - loss: 0.6890 - accuracy: 0.5333 - val_loss: 0.7055 - val_accuracy: 0.5192\n",
      "Epoch 46/100\n",
      "15/15 [==============================] - 1s 90ms/step - loss: 0.6674 - accuracy: 0.5527 - val_loss: 0.7719 - val_accuracy: 0.3077\n",
      "Epoch 47/100\n",
      "15/15 [==============================] - 1s 88ms/step - loss: 0.6720 - accuracy: 0.5591 - val_loss: 0.7892 - val_accuracy: 0.2500\n",
      "Epoch 48/100\n",
      "15/15 [==============================] - 1s 91ms/step - loss: 0.6680 - accuracy: 0.5892 - val_loss: 0.7237 - val_accuracy: 0.3846\n",
      "Epoch 49/100\n",
      "15/15 [==============================] - 1s 87ms/step - loss: 0.6713 - accuracy: 0.5613 - val_loss: 0.7130 - val_accuracy: 0.4615\n",
      "Epoch 50/100\n",
      "15/15 [==============================] - 1s 92ms/step - loss: 0.6847 - accuracy: 0.5634 - val_loss: 0.7207 - val_accuracy: 0.4231\n",
      "Epoch 51/100\n",
      "15/15 [==============================] - 1s 101ms/step - loss: 0.6663 - accuracy: 0.5634 - val_loss: 0.7363 - val_accuracy: 0.2692\n",
      "Epoch 52/100\n",
      "15/15 [==============================] - 1s 93ms/step - loss: 0.6739 - accuracy: 0.5462 - val_loss: 0.6848 - val_accuracy: 0.5962\n",
      "Epoch 53/100\n",
      "15/15 [==============================] - 1s 90ms/step - loss: 0.6615 - accuracy: 0.5871 - val_loss: 0.7965 - val_accuracy: 0.2692\n",
      "Epoch 54/100\n",
      "15/15 [==============================] - 1s 91ms/step - loss: 0.6733 - accuracy: 0.5656 - val_loss: 0.8490 - val_accuracy: 0.3077\n",
      "Epoch 55/100\n",
      "15/15 [==============================] - 1s 102ms/step - loss: 0.6811 - accuracy: 0.5634 - val_loss: 0.7429 - val_accuracy: 0.2692\n",
      "Epoch 56/100\n",
      "15/15 [==============================] - 1s 100ms/step - loss: 0.6614 - accuracy: 0.5763 - val_loss: 0.7947 - val_accuracy: 0.2692\n",
      "Epoch 57/100\n",
      "15/15 [==============================] - 1s 94ms/step - loss: 0.6863 - accuracy: 0.5247 - val_loss: 0.7378 - val_accuracy: 0.2500\n",
      "Epoch 58/100\n",
      "15/15 [==============================] - 3s 189ms/step - loss: 0.6654 - accuracy: 0.5763 - val_loss: 0.9003 - val_accuracy: 0.3077\n",
      "Epoch 59/100\n",
      "15/15 [==============================] - 1s 99ms/step - loss: 0.7184 - accuracy: 0.5441 - val_loss: 0.7165 - val_accuracy: 0.4423\n",
      "Epoch 60/100\n",
      "15/15 [==============================] - 1s 95ms/step - loss: 0.6807 - accuracy: 0.5591 - val_loss: 0.7533 - val_accuracy: 0.2308\n",
      "Epoch 61/100\n",
      "15/15 [==============================] - 2s 115ms/step - loss: 0.6669 - accuracy: 0.5656 - val_loss: 0.7231 - val_accuracy: 0.4423\n",
      "Epoch 62/100\n",
      "15/15 [==============================] - 1s 94ms/step - loss: 0.6611 - accuracy: 0.5742 - val_loss: 0.7133 - val_accuracy: 0.5192\n",
      "Epoch 63/100\n",
      "15/15 [==============================] - 1s 96ms/step - loss: 0.6872 - accuracy: 0.5656 - val_loss: 0.6756 - val_accuracy: 0.5962\n",
      "Epoch 64/100\n",
      "15/15 [==============================] - 1s 91ms/step - loss: 0.6810 - accuracy: 0.5677 - val_loss: 0.6625 - val_accuracy: 0.7115\n",
      "Epoch 65/100\n",
      "15/15 [==============================] - 1s 96ms/step - loss: 0.6888 - accuracy: 0.5570 - val_loss: 0.6510 - val_accuracy: 0.6923\n",
      "Epoch 66/100\n",
      "15/15 [==============================] - 1s 90ms/step - loss: 0.6943 - accuracy: 0.5441 - val_loss: 0.6498 - val_accuracy: 0.6923\n",
      "Epoch 67/100\n",
      "15/15 [==============================] - 1s 87ms/step - loss: 0.6967 - accuracy: 0.5161 - val_loss: 0.6608 - val_accuracy: 0.6731\n",
      "Epoch 68/100\n",
      "15/15 [==============================] - 1s 93ms/step - loss: 0.6711 - accuracy: 0.5613 - val_loss: 0.7056 - val_accuracy: 0.5000\n",
      "Epoch 69/100\n",
      "15/15 [==============================] - 1s 94ms/step - loss: 0.6698 - accuracy: 0.5677 - val_loss: 0.6627 - val_accuracy: 0.6923\n",
      "Epoch 70/100\n",
      "15/15 [==============================] - 1s 92ms/step - loss: 0.6814 - accuracy: 0.5505 - val_loss: 0.6946 - val_accuracy: 0.5385\n",
      "Epoch 71/100\n",
      "15/15 [==============================] - 1s 86ms/step - loss: 0.6717 - accuracy: 0.5763 - val_loss: 0.6890 - val_accuracy: 0.5577\n",
      "Epoch 72/100\n",
      "15/15 [==============================] - 1s 90ms/step - loss: 0.6621 - accuracy: 0.5828 - val_loss: 0.7553 - val_accuracy: 0.2500\n",
      "Epoch 73/100\n",
      "15/15 [==============================] - 1s 91ms/step - loss: 0.6592 - accuracy: 0.5462 - val_loss: 0.7049 - val_accuracy: 0.4808\n",
      "Epoch 74/100\n",
      "15/15 [==============================] - 1s 94ms/step - loss: 0.6632 - accuracy: 0.5634 - val_loss: 0.6873 - val_accuracy: 0.5962\n",
      "Epoch 75/100\n",
      "15/15 [==============================] - 1s 88ms/step - loss: 0.6721 - accuracy: 0.5527 - val_loss: 0.6596 - val_accuracy: 0.6731\n",
      "Epoch 76/100\n",
      "15/15 [==============================] - 1s 97ms/step - loss: 0.6652 - accuracy: 0.5742 - val_loss: 0.7040 - val_accuracy: 0.5192\n",
      "Epoch 77/100\n",
      "15/15 [==============================] - 1s 96ms/step - loss: 0.6599 - accuracy: 0.6086 - val_loss: 0.6724 - val_accuracy: 0.6154\n",
      "Epoch 78/100\n",
      "15/15 [==============================] - 1s 107ms/step - loss: 0.6656 - accuracy: 0.5720 - val_loss: 0.6971 - val_accuracy: 0.5192\n",
      "Epoch 79/100\n",
      "15/15 [==============================] - 1s 95ms/step - loss: 0.6689 - accuracy: 0.5505 - val_loss: 0.7231 - val_accuracy: 0.4231\n",
      "Epoch 80/100\n",
      "15/15 [==============================] - 2s 126ms/step - loss: 0.6611 - accuracy: 0.5742 - val_loss: 0.6894 - val_accuracy: 0.5385\n",
      "Epoch 81/100\n",
      "15/15 [==============================] - 2s 147ms/step - loss: 0.6608 - accuracy: 0.5871 - val_loss: 0.7297 - val_accuracy: 0.3462\n",
      "Epoch 82/100\n",
      "15/15 [==============================] - 1s 104ms/step - loss: 0.6608 - accuracy: 0.5892 - val_loss: 0.6556 - val_accuracy: 0.6923\n",
      "Epoch 83/100\n",
      "15/15 [==============================] - 2s 109ms/step - loss: 0.6748 - accuracy: 0.5699 - val_loss: 0.6522 - val_accuracy: 0.6923\n",
      "Epoch 84/100\n",
      "15/15 [==============================] - 1s 97ms/step - loss: 0.6939 - accuracy: 0.5398 - val_loss: 0.6841 - val_accuracy: 0.5962\n",
      "Epoch 85/100\n",
      "15/15 [==============================] - 1s 103ms/step - loss: 0.6795 - accuracy: 0.5570 - val_loss: 0.6901 - val_accuracy: 0.5577\n",
      "Epoch 86/100\n",
      "15/15 [==============================] - 1s 102ms/step - loss: 0.6572 - accuracy: 0.5957 - val_loss: 0.6998 - val_accuracy: 0.5000\n",
      "Epoch 87/100\n",
      "15/15 [==============================] - 2s 156ms/step - loss: 0.6591 - accuracy: 0.5806 - val_loss: 0.6883 - val_accuracy: 0.5577\n",
      "Epoch 88/100\n",
      "15/15 [==============================] - 2s 123ms/step - loss: 0.6557 - accuracy: 0.5763 - val_loss: 0.7216 - val_accuracy: 0.3846\n",
      "Epoch 89/100\n",
      "15/15 [==============================] - 1s 103ms/step - loss: 0.6615 - accuracy: 0.5742 - val_loss: 0.7166 - val_accuracy: 0.4808\n",
      "Epoch 90/100\n",
      "15/15 [==============================] - 2s 134ms/step - loss: 0.6625 - accuracy: 0.5785 - val_loss: 0.6760 - val_accuracy: 0.5962\n",
      "Epoch 91/100\n",
      "15/15 [==============================] - 2s 126ms/step - loss: 0.6647 - accuracy: 0.5849 - val_loss: 0.7558 - val_accuracy: 0.2500\n",
      "Epoch 92/100\n",
      "15/15 [==============================] - 2s 115ms/step - loss: 0.6555 - accuracy: 0.5677 - val_loss: 0.7848 - val_accuracy: 0.3077\n",
      "Epoch 93/100\n",
      "15/15 [==============================] - 2s 119ms/step - loss: 0.6695 - accuracy: 0.5634 - val_loss: 0.7813 - val_accuracy: 0.2885\n",
      "Epoch 94/100\n",
      "15/15 [==============================] - 2s 117ms/step - loss: 0.6628 - accuracy: 0.5892 - val_loss: 0.7103 - val_accuracy: 0.4423\n",
      "Epoch 95/100\n",
      "15/15 [==============================] - 2s 133ms/step - loss: 0.6697 - accuracy: 0.5742 - val_loss: 0.7337 - val_accuracy: 0.3077\n",
      "Epoch 96/100\n",
      "15/15 [==============================] - 2s 114ms/step - loss: 0.6820 - accuracy: 0.5570 - val_loss: 0.7260 - val_accuracy: 0.4038\n",
      "Epoch 97/100\n",
      "15/15 [==============================] - 2s 151ms/step - loss: 0.6820 - accuracy: 0.5613 - val_loss: 0.9279 - val_accuracy: 0.3269\n",
      "Epoch 98/100\n",
      "15/15 [==============================] - 1s 100ms/step - loss: 0.6747 - accuracy: 0.5505 - val_loss: 0.8122 - val_accuracy: 0.2885\n",
      "Epoch 99/100\n",
      "15/15 [==============================] - 1s 94ms/step - loss: 0.6603 - accuracy: 0.5742 - val_loss: 0.7081 - val_accuracy: 0.5577\n",
      "Epoch 100/100\n",
      "15/15 [==============================] - 1s 97ms/step - loss: 0.6641 - accuracy: 0.5763 - val_loss: 0.6511 - val_accuracy: 0.6923\n"
     ]
    },
    {
     "data": {
      "text/plain": "<keras.callbacks.History at 0x194393a8c40>"
     },
     "execution_count": 298,
     "metadata": {},
     "output_type": "execute_result"
    }
   ],
   "source": [
    "model.fit(X_train, y_train, epochs=100, batch_size=32, validation_data=(X_test, y_test))"
   ],
   "metadata": {
    "collapsed": false
   }
  },
  {
   "cell_type": "code",
   "execution_count": 311,
   "outputs": [
    {
     "name": "stdout",
     "output_type": "stream",
     "text": [
      "2/2 [==============================] - 1s 5ms/step - loss: 0.6511 - accuracy: 0.6923\n",
      "Loss: 0.65\n",
      "Accuracy: 0.69\n",
      "1/1 [==============================] - 1s 1s/step\n",
      "Chance of forest fire: 0.532214\n"
     ]
    }
   ],
   "source": [
    "loss, accuracy = model.evaluate(X_test, y_test)\n",
    "print(f'Loss: {loss:.2f}')\n",
    "print(f'Accuracy: {accuracy:.2f}')\n",
    "\n",
    "# Make predictions on new data\n",
    "# [[month, temp, RH, wind, rain]]\n",
    "# some test samples:\n",
    "# [[6, 40, 20, 4.3,0.0]]\n",
    "# [[12, 10, 70, 0,0]]\n",
    "# [[1, 20, 50, 2.2,0.0]]\n",
    "\n",
    "new_data = [[6, 40, 20, 4.3,0.0]]\n",
    "predictions = model.predict(new_data)\n",
    "\n",
    "# prediction in range 0 - 1\n",
    "print(f'Chance of forest fire: {1 - predictions[0][0]:3f}')"
   ],
   "metadata": {
    "collapsed": false
   }
  },
  {
   "cell_type": "code",
   "execution_count": 320,
   "outputs": [
    {
     "name": "stdout",
     "output_type": "stream",
     "text": [
      "4/4 [==============================] - 4s 3ms/step\n",
      "month: 12 temp: 33 RH: 61 wind: 0 rain: 6\n",
      "chance of forest fire: 0.016458\n",
      "\n",
      "month: 12 temp: 29 RH: 20 wind: 10 rain: 9\n",
      "chance of forest fire: 0.056810\n",
      "\n",
      "month: 1 temp: 28 RH: 42 wind: 6 rain: 9\n",
      "chance of forest fire: 0.019480\n",
      "\n",
      "month: 12 temp: 20 RH: 71 wind: 6 rain: 2\n",
      "chance of forest fire: 0.157823\n",
      "\n",
      "month: 9 temp: 30 RH: 50 wind: 8 rain: 2\n",
      "chance of forest fire: 0.269709\n",
      "\n",
      "month: 3 temp: 33 RH: 84 wind: 0 rain: 8\n",
      "chance of forest fire: 0.022058\n",
      "\n",
      "month: 10 temp: 34 RH: 13 wind: 5 rain: 3\n",
      "chance of forest fire: 0.348072\n",
      "\n",
      "month: 10 temp: 1 RH: 38 wind: 3 rain: 3\n",
      "chance of forest fire: 0.002961\n",
      "\n",
      "month: 4 temp: 13 RH: 100 wind: 0 rain: 9\n",
      "chance of forest fire: 0.136122\n",
      "\n",
      "month: 3 temp: 22 RH: 34 wind: 2 rain: 3\n",
      "chance of forest fire: 0.123497\n",
      "\n",
      "month: 6 temp: 6 RH: 13 wind: 9 rain: 1\n",
      "chance of forest fire: 0.029742\n",
      "\n",
      "month: 9 temp: 10 RH: 52 wind: 3 rain: 7\n",
      "chance of forest fire: 0.034228\n",
      "\n",
      "month: 11 temp: 19 RH: 0 wind: 3 rain: 10\n",
      "chance of forest fire: 0.055426\n",
      "\n",
      "month: 1 temp: 8 RH: 26 wind: 9 rain: 4\n",
      "chance of forest fire: 0.174198\n",
      "\n",
      "month: 5 temp: 16 RH: 34 wind: 0 rain: 1\n",
      "chance of forest fire: 0.253081\n",
      "\n",
      "month: 7 temp: 39 RH: 57 wind: 7 rain: 0\n",
      "chance of forest fire: 0.241477\n",
      "\n",
      "month: 2 temp: 40 RH: 59 wind: 10 rain: 4\n",
      "chance of forest fire: 0.132487\n",
      "\n",
      "month: 8 temp: 22 RH: 100 wind: 10 rain: 2\n",
      "chance of forest fire: 0.200476\n",
      "\n",
      "month: 4 temp: 28 RH: 47 wind: 7 rain: 9\n",
      "chance of forest fire: 0.018533\n",
      "\n",
      "month: 5 temp: 8 RH: 18 wind: 1 rain: 9\n",
      "chance of forest fire: 0.026167\n",
      "\n",
      "month: 12 temp: 33 RH: 8 wind: 6 rain: 9\n",
      "chance of forest fire: 0.040299\n",
      "\n",
      "month: 11 temp: 4 RH: 33 wind: 9 rain: 9\n",
      "chance of forest fire: 0.000124\n",
      "\n",
      "month: 10 temp: 27 RH: 100 wind: 7 rain: 1\n",
      "chance of forest fire: 0.225991\n",
      "\n",
      "month: 3 temp: 18 RH: 57 wind: 6 rain: 9\n",
      "chance of forest fire: 0.036469\n",
      "\n",
      "month: 2 temp: 8 RH: 100 wind: 1 rain: 0\n",
      "chance of forest fire: 0.601596\n",
      "\n",
      "month: 2 temp: 22 RH: 93 wind: 8 rain: 9\n",
      "chance of forest fire: 0.065968\n",
      "\n",
      "month: 4 temp: 20 RH: 86 wind: 10 rain: 3\n",
      "chance of forest fire: 0.210697\n",
      "\n",
      "month: 12 temp: 18 RH: 58 wind: 3 rain: 3\n",
      "chance of forest fire: 0.166029\n",
      "\n",
      "month: 5 temp: 16 RH: 54 wind: 6 rain: 3\n",
      "chance of forest fire: 0.257894\n",
      "\n",
      "month: 9 temp: 10 RH: 75 wind: 6 rain: 6\n",
      "chance of forest fire: 0.025306\n",
      "\n",
      "month: 4 temp: 23 RH: 94 wind: 3 rain: 1\n",
      "chance of forest fire: 0.437998\n",
      "\n",
      "month: 10 temp: 13 RH: 34 wind: 2 rain: 1\n",
      "chance of forest fire: 0.298289\n",
      "\n",
      "month: 12 temp: 25 RH: 69 wind: 7 rain: 6\n",
      "chance of forest fire: 0.079724\n",
      "\n",
      "month: 2 temp: 30 RH: 59 wind: 8 rain: 1\n",
      "chance of forest fire: 0.446359\n",
      "\n",
      "month: 10 temp: 36 RH: 67 wind: 10 rain: 1\n",
      "chance of forest fire: 0.335662\n",
      "\n",
      "month: 3 temp: 10 RH: 15 wind: 9 rain: 6\n",
      "chance of forest fire: 0.122881\n",
      "\n",
      "month: 5 temp: 6 RH: 67 wind: 5 rain: 5\n",
      "chance of forest fire: 0.059934\n",
      "\n",
      "month: 4 temp: 30 RH: 76 wind: 0 rain: 10\n",
      "chance of forest fire: 0.009740\n",
      "\n",
      "month: 3 temp: 21 RH: 60 wind: 3 rain: 9\n",
      "chance of forest fire: 0.032715\n",
      "\n",
      "month: 10 temp: 33 RH: 10 wind: 0 rain: 10\n",
      "chance of forest fire: 0.012244\n",
      "\n",
      "month: 3 temp: 33 RH: 42 wind: 0 rain: 0\n",
      "chance of forest fire: 0.106728\n",
      "\n",
      "month: 1 temp: 12 RH: 24 wind: 4 rain: 0\n",
      "chance of forest fire: 0.597788\n",
      "\n",
      "month: 12 temp: 19 RH: 67 wind: 2 rain: 10\n",
      "chance of forest fire: 0.024626\n",
      "\n",
      "month: 4 temp: 25 RH: 5 wind: 8 rain: 10\n",
      "chance of forest fire: 0.015708\n",
      "\n",
      "month: 2 temp: 6 RH: 81 wind: 5 rain: 5\n",
      "chance of forest fire: 0.182324\n",
      "\n",
      "month: 1 temp: 28 RH: 43 wind: 4 rain: 3\n",
      "chance of forest fire: 0.131909\n",
      "\n",
      "month: 10 temp: 9 RH: 53 wind: 4 rain: 7\n",
      "chance of forest fire: 0.011288\n",
      "\n",
      "month: 6 temp: 36 RH: 3 wind: 4 rain: 10\n",
      "chance of forest fire: 0.009829\n",
      "\n",
      "month: 10 temp: 21 RH: 100 wind: 4 rain: 2\n",
      "chance of forest fire: 0.235572\n",
      "\n",
      "month: 7 temp: 4 RH: 42 wind: 3 rain: 9\n",
      "chance of forest fire: 0.003067\n",
      "\n",
      "month: 3 temp: 9 RH: 9 wind: 9 rain: 9\n",
      "chance of forest fire: 0.049756\n",
      "\n",
      "month: 3 temp: 22 RH: 30 wind: 3 rain: 5\n",
      "chance of forest fire: 0.069259\n",
      "\n",
      "month: 4 temp: 30 RH: 49 wind: 7 rain: 5\n",
      "chance of forest fire: 0.100425\n",
      "\n",
      "month: 8 temp: 11 RH: 37 wind: 9 rain: 7\n",
      "chance of forest fire: 0.018384\n",
      "\n",
      "month: 2 temp: 3 RH: 14 wind: 8 rain: 7\n",
      "chance of forest fire: 0.034091\n",
      "\n",
      "month: 8 temp: 29 RH: 97 wind: 3 rain: 7\n",
      "chance of forest fire: 0.067206\n",
      "\n",
      "month: 1 temp: 25 RH: 16 wind: 0 rain: 8\n",
      "chance of forest fire: 0.031666\n",
      "\n",
      "month: 3 temp: 37 RH: 13 wind: 9 rain: 5\n",
      "chance of forest fire: 0.158776\n",
      "\n",
      "month: 4 temp: 15 RH: 5 wind: 5 rain: 4\n",
      "chance of forest fire: 0.220666\n",
      "\n",
      "month: 6 temp: 9 RH: 77 wind: 10 rain: 7\n",
      "chance of forest fire: 0.015573\n",
      "\n",
      "month: 5 temp: 11 RH: 98 wind: 3 rain: 7\n",
      "chance of forest fire: 0.181344\n",
      "\n",
      "month: 3 temp: 4 RH: 100 wind: 7 rain: 2\n",
      "chance of forest fire: 0.132918\n",
      "\n",
      "month: 9 temp: 40 RH: 18 wind: 8 rain: 8\n",
      "chance of forest fire: 0.053838\n",
      "\n",
      "month: 7 temp: 28 RH: 75 wind: 2 rain: 5\n",
      "chance of forest fire: 0.076068\n",
      "\n",
      "month: 9 temp: 35 RH: 7 wind: 10 rain: 4\n",
      "chance of forest fire: 0.253063\n",
      "\n",
      "month: 8 temp: 20 RH: 97 wind: 10 rain: 8\n",
      "chance of forest fire: 0.047501\n",
      "\n",
      "month: 11 temp: 14 RH: 40 wind: 1 rain: 1\n",
      "chance of forest fire: 0.295504\n",
      "\n",
      "month: 7 temp: 15 RH: 93 wind: 3 rain: 5\n",
      "chance of forest fire: 0.215544\n",
      "\n",
      "month: 7 temp: 8 RH: 42 wind: 10 rain: 10\n",
      "chance of forest fire: 0.001823\n",
      "\n",
      "month: 12 temp: 24 RH: 90 wind: 1 rain: 4\n",
      "chance of forest fire: 0.174206\n",
      "\n",
      "month: 12 temp: 3 RH: 98 wind: 2 rain: 0\n",
      "chance of forest fire: 0.007427\n",
      "\n",
      "month: 12 temp: 14 RH: 84 wind: 6 rain: 0\n",
      "chance of forest fire: 0.204194\n",
      "\n",
      "month: 1 temp: 38 RH: 34 wind: 4 rain: 9\n",
      "chance of forest fire: 0.006651\n",
      "\n",
      "month: 1 temp: 20 RH: 9 wind: 7 rain: 7\n",
      "chance of forest fire: 0.068213\n",
      "\n",
      "month: 12 temp: 16 RH: 5 wind: 6 rain: 3\n",
      "chance of forest fire: 0.551990\n",
      "\n",
      "month: 9 temp: 26 RH: 5 wind: 9 rain: 10\n",
      "chance of forest fire: 0.015465\n",
      "\n",
      "month: 10 temp: 3 RH: 94 wind: 1 rain: 9\n",
      "chance of forest fire: 0.001101\n",
      "\n",
      "month: 3 temp: 22 RH: 14 wind: 8 rain: 1\n",
      "chance of forest fire: 0.555543\n",
      "\n",
      "month: 11 temp: 10 RH: 97 wind: 9 rain: 8\n",
      "chance of forest fire: 0.001894\n",
      "\n",
      "month: 11 temp: 31 RH: 69 wind: 9 rain: 1\n",
      "chance of forest fire: 0.213266\n",
      "\n",
      "month: 2 temp: 15 RH: 54 wind: 1 rain: 9\n",
      "chance of forest fire: 0.046527\n",
      "\n",
      "month: 8 temp: 21 RH: 13 wind: 1 rain: 9\n",
      "chance of forest fire: 0.026563\n",
      "\n",
      "month: 9 temp: 5 RH: 55 wind: 2 rain: 7\n",
      "chance of forest fire: 0.006001\n",
      "\n",
      "month: 7 temp: 19 RH: 6 wind: 9 rain: 7\n",
      "chance of forest fire: 0.062837\n",
      "\n",
      "month: 3 temp: 38 RH: 85 wind: 9 rain: 10\n",
      "chance of forest fire: 0.021862\n",
      "\n",
      "month: 3 temp: 6 RH: 22 wind: 2 rain: 1\n",
      "chance of forest fire: 0.424806\n",
      "\n",
      "month: 4 temp: 37 RH: 13 wind: 8 rain: 0\n",
      "chance of forest fire: 0.574226\n",
      "\n",
      "month: 9 temp: 20 RH: 79 wind: 0 rain: 0\n",
      "chance of forest fire: 0.406202\n",
      "\n",
      "month: 3 temp: 40 RH: 78 wind: 1 rain: 10\n",
      "chance of forest fire: 0.005323\n",
      "\n",
      "month: 6 temp: 15 RH: 95 wind: 8 rain: 0\n",
      "chance of forest fire: 0.273029\n",
      "\n",
      "month: 11 temp: 23 RH: 23 wind: 7 rain: 4\n",
      "chance of forest fire: 0.222902\n",
      "\n",
      "month: 9 temp: 36 RH: 44 wind: 4 rain: 7\n",
      "chance of forest fire: 0.015228\n",
      "\n",
      "month: 6 temp: 36 RH: 34 wind: 10 rain: 7\n",
      "chance of forest fire: 0.038349\n",
      "\n",
      "month: 2 temp: 39 RH: 11 wind: 8 rain: 5\n",
      "chance of forest fire: 0.133801\n",
      "\n",
      "month: 1 temp: 20 RH: 76 wind: 3 rain: 5\n",
      "chance of forest fire: 0.199261\n",
      "\n",
      "month: 11 temp: 17 RH: 24 wind: 9 rain: 3\n",
      "chance of forest fire: 0.234362\n",
      "\n",
      "month: 8 temp: 40 RH: 15 wind: 9 rain: 4\n",
      "chance of forest fire: 0.229867\n",
      "\n",
      "month: 9 temp: 23 RH: 85 wind: 0 rain: 1\n",
      "chance of forest fire: 0.360419\n",
      "\n",
      "month: 1 temp: 34 RH: 43 wind: 8 rain: 1\n",
      "chance of forest fire: 0.313784\n",
      "\n",
      "month: 3 temp: 17 RH: 24 wind: 10 rain: 3\n",
      "chance of forest fire: 0.346160\n",
      "\n"
     ]
    }
   ],
   "source": [
    "## multiple prediction\n",
    "import random as rand\n",
    "new_data = [(rand.randint(1,12), rand.randint(0,40), rand.randint(0,100), rand.randint(0,10), rand.randint(0,10)) for i in range(100)]\n",
    "\n",
    "predictions = model.predict(new_data)\n",
    "for i in range(len(new_data)):\n",
    "    print(f\"month: {new_data[i][0]} temp: {new_data[i][1]} RH: {new_data[i][2]} wind: {new_data[i][3]} rain: {new_data[i][4]}\\nchance of forest fire: {1-predictions[i][0]:3f}\\n\")"
   ],
   "metadata": {
    "collapsed": false
   }
  },
  {
   "cell_type": "markdown",
   "source": [],
   "metadata": {
    "collapsed": false
   }
  },
  {
   "cell_type": "code",
   "execution_count": 308,
   "outputs": [],
   "source": [
    "model.save('models/quokkaForesterV1.0.h5')"
   ],
   "metadata": {
    "collapsed": false
   }
  },
  {
   "cell_type": "code",
   "execution_count": null,
   "outputs": [],
   "source": [],
   "metadata": {
    "collapsed": false
   }
  }
 ],
 "metadata": {
  "kernelspec": {
   "display_name": "Python 3",
   "language": "python",
   "name": "python3"
  },
  "language_info": {
   "codemirror_mode": {
    "name": "ipython",
    "version": 2
   },
   "file_extension": ".py",
   "mimetype": "text/x-python",
   "name": "python",
   "nbconvert_exporter": "python",
   "pygments_lexer": "ipython2",
   "version": "2.7.6"
  }
 },
 "nbformat": 4,
 "nbformat_minor": 0
}
