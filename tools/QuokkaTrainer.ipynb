{
 "cells": [
  {
   "cell_type": "markdown",
   "source": [
    "# QUOKKA TRAINER"
   ],
   "metadata": {
    "collapsed": false
   }
  },
  {
   "cell_type": "markdown",
   "source": [
    "# STEPS:\n",
    " 1. import forestfires.csv\n",
    " 2. drop area column\n",
    " 3. add a class column and set to 1 (fire)\n",
    " 4. import a normal dataset on portugal weather\n",
    " 5. drop all columns except temp, RH, wind, rain\n",
    " 6. add a class column and set to 0 (no fire)\n",
    " 7. combine two datasets\n",
    " 8. split and train"
   ],
   "metadata": {
    "collapsed": false
   }
  },
  {
   "cell_type": "code",
   "execution_count": null,
   "outputs": [],
   "source": [],
   "metadata": {
    "collapsed": false
   }
  }
 ],
 "metadata": {
  "kernelspec": {
   "display_name": "Python 3",
   "language": "python",
   "name": "python3"
  },
  "language_info": {
   "codemirror_mode": {
    "name": "ipython",
    "version": 2
   },
   "file_extension": ".py",
   "mimetype": "text/x-python",
   "name": "python",
   "nbconvert_exporter": "python",
   "pygments_lexer": "ipython2",
   "version": "2.7.6"
  }
 },
 "nbformat": 4,
 "nbformat_minor": 0
}
