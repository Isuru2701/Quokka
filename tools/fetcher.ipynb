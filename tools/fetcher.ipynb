{
 "cells": [
  {
   "cell_type": "code",
   "execution_count": 1,
   "metadata": {
    "collapsed": true
   },
   "outputs": [],
   "source": [
    "import pandas as pd"
   ]
  },
  {
   "cell_type": "code",
   "execution_count": 3,
   "outputs": [],
   "source": [
    "df = pd.read_csv('../datasets/controldata.csv')"
   ],
   "metadata": {
    "collapsed": false
   }
  },
  {
   "cell_type": "code",
   "execution_count": 4,
   "outputs": [
    {
     "data": {
      "text/plain": "array(['No precipitation', nan, '0,1', 'Trace of precipitation', '0,2',\n       '0,5', '0,4', '0,3', '2', '0,6', '1', '3', '0,7', '0,9', '0,8',\n       '6', '8', '19', '10', '17', '18', '13', '7', '4', '5', '9', '12',\n       '16', '51', '22', '14', '11', '27', '28', '30', '15', '52', '46',\n       '25', '20', '21', '44', '23', '29', '43', '45', '34', '24'],\n      dtype=object)"
     },
     "execution_count": 4,
     "metadata": {},
     "output_type": "execute_result"
    }
   ],
   "source": [
    "df['RRR'].unique()"
   ],
   "metadata": {
    "collapsed": false
   }
  },
  {
   "cell_type": "markdown",
   "source": [],
   "metadata": {
    "collapsed": false
   }
  },
  {
   "cell_type": "code",
   "execution_count": 8,
   "outputs": [
    {
     "data": {
      "text/plain": "array([ 0. ,  0.1,  0.2,  0.5,  0.4,  0.3,  2. ,  0.6,  1. ,  3. ,  0.7,\n        0.9,  0.8,  6. ,  8. , 19. , 10. , 17. , 18. , 13. ,  7. ,  4. ,\n        5. ,  9. , 12. , 16. , 22. , 14. , 11. , 27. , 28. , 30. , 15. ,\n       52. , 46. , 25. , 20. , 21. , 44. , 23. , 29. , 43. , 45. , 34. ,\n       24. ])"
     },
     "execution_count": 8,
     "metadata": {},
     "output_type": "execute_result"
    }
   ],
   "source": [
    "newdf = pd.read_csv(\"../datasets/CLEANROUND1controldata.csv\")\n",
    "newdf['RRR'].unique()"
   ],
   "metadata": {
    "collapsed": false
   }
  },
  {
   "cell_type": "code",
   "execution_count": 9,
   "outputs": [
    {
     "data": {
      "text/plain": "Local time in Braganca    24015\nT                         24015\nU                         24015\nFf                        24015\nRRR                       24015\ndtype: int64"
     },
     "execution_count": 9,
     "metadata": {},
     "output_type": "execute_result"
    }
   ],
   "source": [
    "newdf.count()"
   ],
   "metadata": {
    "collapsed": false
   }
  },
  {
   "cell_type": "code",
   "execution_count": 10,
   "outputs": [
    {
     "data": {
      "text/plain": "Local time in Braganca    2000\ntemp                      2000\nRH                        2000\nFf                        2000\nrain                      2000\ndtype: int64"
     },
     "execution_count": 10,
     "metadata": {},
     "output_type": "execute_result"
    }
   ],
   "source": [
    "newdf = pd.read_csv(\"../datasets/CLEANROUND2controldata.csv\")\n",
    "newdf.count()"
   ],
   "metadata": {
    "collapsed": false
   }
  },
  {
   "cell_type": "code",
   "execution_count": null,
   "outputs": [],
   "source": [],
   "metadata": {
    "collapsed": false
   }
  }
 ],
 "metadata": {
  "kernelspec": {
   "display_name": "Python 3",
   "language": "python",
   "name": "python3"
  },
  "language_info": {
   "codemirror_mode": {
    "name": "ipython",
    "version": 2
   },
   "file_extension": ".py",
   "mimetype": "text/x-python",
   "name": "python",
   "nbconvert_exporter": "python",
   "pygments_lexer": "ipython2",
   "version": "2.7.6"
  }
 },
 "nbformat": 4,
 "nbformat_minor": 0
}
